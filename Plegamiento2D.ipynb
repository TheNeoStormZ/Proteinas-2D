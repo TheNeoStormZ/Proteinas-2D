{
 "cells": [
  {
   "cell_type": "markdown",
   "metadata": {
    "cell_id": "019cefc015174c5cbf6c714abff3b293",
    "deepnote_cell_type": "text-cell-h1",
    "formattedRanges": [],
    "is_collapsed": false,
    "tags": []
   },
   "source": [
    "# Plegamiento 2D: Un enfoque informatico"
   ]
  },
  {
   "cell_type": "markdown",
   "metadata": {
    "cell_id": "a5441d0eee25407f97cf3137612eda8a",
    "deepnote_cell_type": "text-cell-p",
    "formattedRanges": [],
    "is_collapsed": false,
    "tags": []
   },
   "source": [
    "Miembros del equipo:"
   ]
  },
  {
   "cell_type": "markdown",
   "metadata": {
    "cell_id": "0bb3486a78a14ff9b8165e8c88ae35a9",
    "deepnote_cell_type": "text-cell-p",
    "formattedRanges": [],
    "is_collapsed": false,
    "tags": []
   },
   "source": [
    "Pablo Marín Gómez - pabmargom3@alum.us.es (pabmargom3)"
   ]
  },
  {
   "cell_type": "markdown",
   "metadata": {
    "cell_id": "29464499fdd24a78ac4ab04cb54d5855",
    "deepnote_cell_type": "text-cell-p",
    "formattedRanges": [],
    "is_collapsed": false,
    "tags": []
   },
   "source": [
    "David Zamora Fernández - davzamfer@alum.us.es (davzamfer)"
   ]
  },
  {
   "cell_type": "markdown",
   "metadata": {
    "cell_id": "ea8776938d9547da83e10cecb4b820ad",
    "deepnote_cell_type": "text-cell-h2",
    "formattedRanges": [],
    "is_collapsed": false,
    "tags": []
   },
   "source": [
    "## Problema 1"
   ]
  },
  {
   "cell_type": "markdown",
   "metadata": {
    "cell_id": "b5425a5265a94f559d6e97817281c6a1",
    "deepnote_cell_height": 119.60000610351562,
    "deepnote_cell_type": "markdown",
    "tags": []
   },
   "source": [
    "Se pide implementar una función get_spatial_dic(protein, structure) que recibe una cadena\n",
    "representando una proteína (letras de aminoácidos) y otra cadena representando su estructura\n",
    "(I para el aminoácido inicial, N, S, E o W según la posición relativa de un aminoácido con respecto\n",
    "al anterior) y devuelve un diccionario o un diccionario vacío si existen solapamientos. Las claves\n",
    "de dicho diccionario serán tuplas de dos números enteros representando coordenadas\n",
    "espaciales y los valores serán letras de aminoácidos."
   ]
  },
  {
   "cell_type": "markdown",
   "metadata": {
    "cell_id": "d2103e8d69ac4d59aeb28d218a092f38",
    "deepnote_cell_height": 52.399993896484375,
    "deepnote_cell_type": "markdown",
    "tags": []
   },
   "source": [
    "Codigo completo"
   ]
  },
  {
   "cell_type": "code",
   "execution_count": null,
   "metadata": {
    "cell_id": "f5caff3b70974b398aa47fe67bc8b36e",
    "deepnote_cell_height": 819,
    "deepnote_cell_type": "code",
    "deepnote_to_be_reexecuted": false,
    "execution_millis": 0,
    "execution_start": 1655994663302,
    "source_hash": "c9651a3d",
    "tags": []
   },
   "outputs": [],
   "source": [
    "def get_spatial_dic(protein, structure):\n",
    "    dictionary = {}\n",
    "    if(len(protein) != len(structure)):\n",
    "        return dictionary\n",
    "    last_key = (0,0)\n",
    "    for i in range(len(protein)):\n",
    "        prot_act = protein[i]\n",
    "        struct_act = structure[i]\n",
    "\n",
    "        #last_key = get_pos(last_key,struct_act)\n",
    "\n",
    "        if (struct_act=='N'):\n",
    "            pos = last_key[1]\n",
    "            pos+=1\n",
    "            last_key = last_key[0],pos\n",
    "\n",
    "        elif(struct_act=='S'):\n",
    "            pos = last_key[1]\n",
    "            pos-=1\n",
    "            last_key = last_key[0],pos\n",
    "\n",
    "        elif(struct_act=='E'):\n",
    "            pos = last_key[0]\n",
    "            pos+=1\n",
    "            last_key = pos,last_key[1]\n",
    "        \n",
    "        elif(struct_act=='W'):\n",
    "            pos = last_key[0]\n",
    "            pos-=1\n",
    "            last_key = pos,last_key[1]\n",
    "\n",
    "        key_dic = dictionary.keys()\n",
    "\n",
    "\n",
    "        if last_key in dictionary:\n",
    "            return {}\n",
    "\n",
    "        dictionary[last_key] = prot_act\n",
    "\n",
    "    return dictionary\n",
    "\n"
   ]
  },
  {
   "cell_type": "markdown",
   "metadata": {
    "cell_id": "5eeb988fc70a4646ae4d95007f72d25f",
    "deepnote_cell_height": 52.399993896484375,
    "deepnote_cell_type": "markdown",
    "tags": []
   },
   "source": [
    "Casos de prueba"
   ]
  },
  {
   "cell_type": "code",
   "execution_count": null,
   "metadata": {
    "cell_id": "e44b7dd98d19451e96308c3df7de90f4",
    "deepnote_cell_height": 201.1999969482422,
    "deepnote_cell_type": "code",
    "deepnote_to_be_reexecuted": false,
    "execution_millis": 313,
    "execution_start": 1655994663303,
    "source_hash": "47125c5",
    "tags": []
   },
   "outputs": [],
   "source": [
    "#protein = \"ACDEFKL\"\n",
    "#structure = \"IWNWSWW\"\n",
    "protein= 'MAAHKGAEHHHKAAEHHEQAAKHHHAAAEHHEKGEHEQAAHHADTAYAHHKHAEEHAAQAAKHDAEHHAPKPH'\n",
    "structure='ISSSSSSSSSSSSSSSSSSSSSSSSSSSSSSSSSSSSSSSSSSSSSSSSSSSSSSSSSSSSSSSSSSSSSSSS'\n",
    "print(get_spatial_dic(protein, structure))"
   ]
  },
  {
   "cell_type": "markdown",
   "metadata": {
    "cell_id": "abe643dc7ba34d208b4b41a663031537",
    "deepnote_cell_type": "text-cell-h2",
    "formattedRanges": [],
    "is_collapsed": false,
    "tags": []
   },
   "source": [
    "## Problema 2"
   ]
  },
  {
   "cell_type": "markdown",
   "metadata": {
    "cell_id": "973cc66e294744f3b4e8d9cb779226ae",
    "deepnote_cell_type": "text-cell-p",
    "formattedRanges": [],
    "is_collapsed": false,
    "tags": []
   },
   "source": [
    "Se pide implementar una función is_hydrophobic(aa).\n"
   ]
  },
  {
   "cell_type": "code",
   "execution_count": null,
   "metadata": {
    "cell_id": "4eb22aa8ddd34f80a6e582a039263b71",
    "deepnote_cell_height": 513,
    "deepnote_cell_type": "code",
    "deepnote_to_be_reexecuted": false,
    "execution_millis": 9,
    "execution_start": 1655994663306,
    "source_hash": "292005",
    "tags": []
   },
   "outputs": [],
   "source": [
    "def is_hydrophobic(aa):\n",
    "    aa_deltaG = { \n",
    "    'A': 1, # Alanine\n",
    "    'C': 0.17, # Cysteine\n",
    "    'D': -3, # Aspartic Acid\n",
    "    'E': -2.6, # Glutamic Acid\n",
    "    'F': 2.5, # Phenylalanine\n",
    "    'G': 0.67, # Glycine\n",
    "    'H': -1.7, # Histidine\n",
    "    'I': 3.1, # Isoleucine\n",
    "    'K': -4.6, # Lysine\n",
    "    'L': 2.2, # Leucine\n",
    "    'M': 1.1, # Methionine\n",
    "    'N': -2.7, # Asparagine\n",
    "    'P': -0.29,# Proline\n",
    "    'Q': -2.9, # Glutamine\n",
    "    'R': -7.5, # Arginine\n",
    "    'S': -1.1, # Serine\n",
    "    'T': -0.75,# Threonine\n",
    "    'V': 2.3, # Valine\n",
    "    'W': 1.5, # Tryptophan\n",
    "    'Y': 0.08 # Tyrosine\n",
    "    }\n",
    "\n",
    "    return aa_deltaG[aa] > -1.5"
   ]
  },
  {
   "cell_type": "code",
   "execution_count": null,
   "metadata": {
    "cell_id": "88d23addc7754b1cbd7a3caf34692f59",
    "deepnote_cell_height": 513,
    "deepnote_cell_type": "code",
    "deepnote_to_be_reexecuted": false,
    "execution_millis": 2,
    "execution_start": 1655994663324,
    "source_hash": "528e4e2d",
    "tags": []
   },
   "outputs": [],
   "source": [
    "def get_energy(aa):\n",
    "    aa_deltaG = { \n",
    "    'A': 1, # Alanine\n",
    "    'C': 0.17, # Cysteine\n",
    "    'D': -3, # Aspartic Acid\n",
    "    'E': -2.6, # Glutamic Acid\n",
    "    'F': 2.5, # Phenylalanine\n",
    "    'G': 0.67, # Glycine\n",
    "    'H': -1.7, # Histidine\n",
    "    'I': 3.1, # Isoleucine\n",
    "    'K': -4.6, # Lysine\n",
    "    'L': 2.2, # Leucine\n",
    "    'M': 1.1, # Methionine\n",
    "    'N': -2.7, # Asparagine\n",
    "    'P': -0.29,# Proline\n",
    "    'Q': -2.9, # Glutamine\n",
    "    'R': -7.5, # Arginine\n",
    "    'S': -1.1, # Serine\n",
    "    'T': -0.75,# Threonine\n",
    "    'V': 2.3, # Valine\n",
    "    'W': 1.5, # Tryptophan\n",
    "    'Y': 0.08 # Tyrosine\n",
    "    }\n",
    "\n",
    "    return aa_deltaG[aa]"
   ]
  },
  {
   "cell_type": "markdown",
   "metadata": {
    "cell_id": "cc233eb770da4820a227b83b364def13",
    "deepnote_cell_type": "text-cell-p",
    "formattedRanges": [],
    "is_collapsed": false,
    "tags": []
   },
   "source": [
    "Test de función"
   ]
  },
  {
   "cell_type": "code",
   "execution_count": null,
   "metadata": {
    "cell_id": "7d1764de091c48b29daf8fbd08771c7c",
    "deepnote_cell_height": 393.20001220703125,
    "deepnote_cell_type": "code",
    "deepnote_to_be_reexecuted": false,
    "execution_millis": 0,
    "execution_start": 1655994663367,
    "source_hash": "ce8857e0",
    "tags": []
   },
   "outputs": [],
   "source": [
    "tests = ['D','E','K']\n",
    "\n",
    "for test in tests:\n",
    "    print(is_hydrophobic(test))\n",
    "\n",
    "tests = ['A','C','Y']\n",
    "\n",
    "for test in tests:\n",
    "    print(not(is_hydrophobic(test)))\n",
    "\n"
   ]
  },
  {
   "cell_type": "markdown",
   "metadata": {
    "cell_id": "fe9fe417d0b541c38b2ebcdcb734ecaa",
    "deepnote_cell_height": 74.80000305175781,
    "deepnote_cell_type": "markdown",
    "tags": []
   },
   "source": [
    "También se pide implementar una función get_score(dic) que reciba un diccionario representando la\n",
    "estructura espacial de una proteína y devuelva su puntuación. La puntuación de un aminoácido será :"
   ]
  },
  {
   "cell_type": "markdown",
   "metadata": {
    "cell_id": "c10b0e0a896d4db1b4699d90a456dd9e",
    "deepnote_cell_type": "text-cell-p",
    "formattedRanges": [],
    "is_collapsed": false,
    "tags": []
   },
   "source": [
    "-&gt; ΔG * N (si el aminoácido no es hidrofóbico)"
   ]
  },
  {
   "cell_type": "markdown",
   "metadata": {
    "cell_id": "9471b96f313a46baaf7da31fc82f90b4",
    "deepnote_cell_type": "text-cell-p",
    "formattedRanges": [],
    "is_collapsed": false,
    "tags": []
   },
   "source": [
    "-&gt; ΔG * N + 10 * N (si el aminoácido es hidrofóbico). Siendo N el número de posiciones adyacentes libres"
   ]
  },
  {
   "cell_type": "code",
   "execution_count": null,
   "metadata": {
    "cell_id": "4ea88b7da42144ffb5c5b8696227d5fa",
    "deepnote_cell_height": 387,
    "deepnote_cell_type": "code",
    "deepnote_to_be_reexecuted": false,
    "execution_millis": 271,
    "execution_start": 1655994663368,
    "source_hash": "ab034afd",
    "tags": []
   },
   "outputs": [],
   "source": [
    "def get_score(dic):\n",
    "    final_score=0\n",
    "    for i in range(len(dic.keys())):\n",
    "        N = 8\n",
    "        key = list(dic.keys())[i]\n",
    "        pos_adyacentes = [(key[0]-1,key[1]+1),(key[0],key[1]+1),(key[0]+1,key[1]+1),\n",
    "                        (key[0]+1,key[1]),(key[0]+1,key[1]-1),(key[0],key[1]-1),\n",
    "                        (key[0]-1,key[1]-1),(key[0]-1,key[1])]\n",
    "        for pos in pos_adyacentes:\n",
    "            if pos in dic:\n",
    "                N = N-1\n",
    "\n",
    "        if (is_hydrophobic(list(dic.values())[i])):\n",
    "            final_score += get_energy(list(dic.values())[i]) * N + 10 * N\n",
    "        else:\n",
    "            final_score += get_energy(list(dic.values())[i]) * N \n",
    "    return final_score\n"
   ]
  },
  {
   "cell_type": "markdown",
   "metadata": {
    "cell_id": "5d57a43fbcc34c9ea7514cb52919902b",
    "deepnote_cell_type": "text-cell-p",
    "formattedRanges": [],
    "is_collapsed": false,
    "tags": []
   },
   "source": [
    "Caso de prueba"
   ]
  },
  {
   "cell_type": "code",
   "execution_count": null,
   "metadata": {
    "cell_id": "a256795c036e4f98bf33a577042e289d",
    "deepnote_cell_height": 166.1999969482422,
    "deepnote_cell_type": "code",
    "deepnote_to_be_reexecuted": false,
    "execution_millis": 270,
    "execution_start": 1655994663369,
    "source_hash": "1d8804a3",
    "tags": []
   },
   "outputs": [],
   "source": [
    "protein = \"ACDEFKL\"\n",
    "structure = \"IWNWSWW\"\n",
    "dic = get_spatial_dic(protein, structure)\n",
    "print(get_score(dic))"
   ]
  },
  {
   "cell_type": "code",
   "execution_count": null,
   "metadata": {
    "cell_id": "575577dc584443e5a936b55ac2ce3cff",
    "deepnote_cell_height": 130.1999969482422,
    "deepnote_cell_type": "code",
    "deepnote_to_be_reexecuted": false,
    "execution_millis": 266,
    "execution_start": 1655994663393,
    "source_hash": "36122d9d",
    "tags": []
   },
   "outputs": [],
   "source": [
    "dic = {}\n",
    "print(get_score(dic)==0)"
   ]
  },
  {
   "cell_type": "markdown",
   "metadata": {
    "cell_id": "82ced50e6b9b47d19f81f610dd34e6ff",
    "deepnote_cell_type": "text-cell-h2",
    "formattedRanges": [],
    "is_collapsed": false,
    "tags": []
   },
   "source": [
    "## Problema 3"
   ]
  },
  {
   "cell_type": "markdown",
   "metadata": {
    "cell_id": "78697a4358a1456e8b2e9bd52fafdb79",
    "deepnote_cell_height": 74.80000305175781,
    "deepnote_cell_type": "markdown",
    "tags": []
   },
   "source": [
    "Se pide implementar una función fold(structure, pos, angle) que recibe una estructura, una\n",
    "posición de plegado (desde donde se comienza a plegar) y el ángulo que puede ser 90 o –90"
   ]
  },
  {
   "cell_type": "code",
   "execution_count": null,
   "metadata": {
    "cell_id": "6d56ce1853aa42e1bde696f53d6b5f6b",
    "deepnote_cell_height": 297,
    "deepnote_cell_type": "code",
    "deepnote_to_be_reexecuted": false,
    "execution_millis": 11,
    "execution_start": 1655994663414,
    "source_hash": "58a85a6d",
    "tags": []
   },
   "outputs": [],
   "source": [
    "def get_new_struc(coord,angle):\n",
    "    translator = {\n",
    "        (90,'N'): 'W',\n",
    "        (-90,'N'): 'E',\n",
    "        (90,'S'): 'E',\n",
    "        (-90,'S'): 'W',\n",
    "        (90,'W'): 'S',\n",
    "        (-90,'W'): 'N',\n",
    "        (90,'E'): 'N',\n",
    "        (-90,'E'): 'S'\n",
    "    }\n",
    "    return translator[(angle,coord)]\n"
   ]
  },
  {
   "cell_type": "code",
   "execution_count": null,
   "metadata": {
    "cell_id": "0ada6b1a2f8a45e99d40b3d8d3b39c6e",
    "deepnote_cell_height": 153,
    "deepnote_cell_type": "code",
    "deepnote_to_be_reexecuted": false,
    "execution_millis": 1,
    "execution_start": 1655994663426,
    "source_hash": "a380c9f7",
    "tags": []
   },
   "outputs": [],
   "source": [
    "def fold(structure, pos, angle):\n",
    "    list_structure=list(structure)\n",
    "    for i in range(pos,len(structure)):\n",
    "        list_structure[i]= get_new_struc(list_structure[i],angle)\n",
    "    return \"\".join(list_structure)"
   ]
  },
  {
   "cell_type": "markdown",
   "metadata": {
    "cell_id": "86a2c390ace54352bfc87f65b950b4ca",
    "deepnote_cell_height": 52.399993896484375,
    "deepnote_cell_type": "markdown",
    "tags": []
   },
   "source": [
    "Caso de prueba"
   ]
  },
  {
   "cell_type": "code",
   "execution_count": null,
   "metadata": {
    "allow_embed": false,
    "cell_id": "c89411d1816c439eaeddaa412d8ff7e0",
    "deepnote_cell_height": 222.39999389648438,
    "deepnote_cell_type": "code",
    "deepnote_to_be_reexecuted": false,
    "execution_millis": 227,
    "execution_start": 1655994663433,
    "source_hash": "d16fe0fd",
    "tags": []
   },
   "outputs": [],
   "source": [
    "protein = \"ACDEFKL\"\n",
    "structure = \"IEEEEEE\"\n",
    "print(fold(structure, 4, 90))\n",
    "print(fold(structure, 4, 90) == 'IEEENNN')\n",
    "\n"
   ]
  },
  {
   "cell_type": "markdown",
   "metadata": {
    "cell_id": "ec94b2ca9c46493396142541338dcae7",
    "deepnote_cell_type": "text-cell-p",
    "formattedRanges": [],
    "is_collapsed": false,
    "tags": []
   },
   "source": [
    "Se&nbsp;pide también&nbsp;implementar&nbsp;una&nbsp;función&nbsp;get_successors(protein,structure)&nbsp;que,&nbsp;dada&nbsp;una&nbsp;proteína&nbsp;y&nbsp;su estructura,&nbsp;devuelva&nbsp;un&nbsp;diccionario&nbsp;cuyas&nbsp;claves&nbsp;son&nbsp;todas&nbsp;las&nbsp;posibles&nbsp;estructuras&nbsp;válidas&nbsp;trasaplicar&nbsp;todos&nbsp;los&nbsp;posibles&nbsp; plegamientos&nbsp;y&nbsp;cuyos&nbsp;valores&nbsp;sean&nbsp;los&nbsp;correspondientes&nbsp;diccionarios espaciales&nbsp;obtenidos&nbsp;con&nbsp;get_spatial_dic.&nbsp;"
   ]
  },
  {
   "cell_type": "code",
   "execution_count": null,
   "metadata": {
    "cell_id": "875a5bc9795743b480cbc1e011f419be",
    "deepnote_cell_height": 297,
    "deepnote_cell_type": "code",
    "deepnote_to_be_reexecuted": false,
    "execution_millis": 2,
    "execution_start": 1655994663444,
    "source_hash": "9b545607",
    "tags": []
   },
   "outputs": [],
   "source": [
    "def get_successors(protein, structure):\n",
    "\n",
    "    sp_structure = list(range(1,len(structure)))\n",
    "\n",
    "    dic = {}\n",
    "\n",
    "    for coord in sp_structure:\n",
    "        for angle in [90,-90]:\n",
    "            folded = fold(structure,coord,angle)\n",
    "            value = get_spatial_dic(protein,folded)\n",
    "            dic[folded] = value\n",
    "\n",
    "    return dic"
   ]
  },
  {
   "cell_type": "markdown",
   "metadata": {
    "cell_id": "0c0943d02538499ba25996e09685e1a9",
    "deepnote_cell_height": 52.399993896484375,
    "deepnote_cell_type": "markdown",
    "tags": []
   },
   "source": [
    "Caso de prueba"
   ]
  },
  {
   "cell_type": "code",
   "execution_count": null,
   "metadata": {
    "cell_id": "42c0d90e26e744e5b3451c6f0d5891cc",
    "deepnote_cell_height": 183.1999969482422,
    "deepnote_cell_type": "code",
    "deepnote_to_be_reexecuted": false,
    "execution_millis": 181,
    "execution_start": 1655994663485,
    "source_hash": "28da395d",
    "tags": []
   },
   "outputs": [],
   "source": [
    "protein = \"ACDEFKL\"\n",
    "structure = \"IEEEEEE\"\n",
    "\n",
    "print(get_successors(protein,structure))"
   ]
  },
  {
   "cell_type": "markdown",
   "metadata": {
    "cell_id": "cea67ffe6e074b8e9ea8be333809a3f2",
    "deepnote_cell_type": "text-cell-h2",
    "formattedRanges": [],
    "is_collapsed": false,
    "tags": []
   },
   "source": [
    "## Problema 4"
   ]
  },
  {
   "cell_type": "markdown",
   "metadata": {
    "cell_id": "f584b81edecd4d5a9118e7f53055a1cd",
    "deepnote_cell_type": "text-cell-p",
    "formattedRanges": [],
    "is_collapsed": false,
    "tags": []
   },
   "source": [
    "Usando las funciones creadas en los problemas anteriores, implementa el algoritmo de\n",
    "Enfriamiento Simulado (Simmulating Annealing) para resolver el problema del plegado 2D como\n",
    "un problema de optimización."
   ]
  },
  {
   "cell_type": "code",
   "execution_count": null,
   "metadata": {
    "cell_id": "c0086b3880fa45389d71d4f603548d21",
    "deepnote_cell_height": 207,
    "deepnote_cell_type": "code",
    "deepnote_to_be_reexecuted": false,
    "execution_millis": 0,
    "execution_start": 1655994663487,
    "source_hash": "1b6a5d57",
    "tags": []
   },
   "outputs": [],
   "source": [
    "def generate_structure(sequence):\n",
    "    list_structure = []\n",
    "    list_structure.append('I')\n",
    "    for i in range(1,len(sequence)):\n",
    "        list_structure.append('E')\n",
    "        \n",
    "    \n",
    "    return \"\".join(list_structure)"
   ]
  },
  {
   "cell_type": "markdown",
   "metadata": {
    "cell_id": "0f250616fcc245ef892a77fdd56a8c1d",
    "deepnote_cell_height": 52.399993896484375,
    "deepnote_cell_type": "markdown",
    "tags": []
   },
   "source": [
    "Test de generador de estructura"
   ]
  },
  {
   "cell_type": "code",
   "execution_count": null,
   "metadata": {
    "cell_id": "4f4ec76982814d4f81a2fcfa8596786b",
    "deepnote_cell_height": 165.1999969482422,
    "deepnote_cell_type": "code",
    "deepnote_to_be_reexecuted": false,
    "execution_millis": 176,
    "execution_start": 1655994663490,
    "source_hash": "8271fab3",
    "tags": []
   },
   "outputs": [],
   "source": [
    "sequence= \"MPNSTTVMEFLLMRFSDVWTLQILHSASFFMLYLVTLMGNILIVTVTTCDSSLHMPMYFFLRNLSILDACYISVTVPTSCVNSLLDSTTISKAGCVAQVFLVVFFVYVELLFLTIMAHDRYVAVCQPLHYPVIVNSRICIQMTLASLLSGLVYAGMHTGSTFQLPFCRSNVIHQFFCDIPSLLKLSCSDTFSNEVMIVVSALGVGGGCFIFIIRSYIHIFSTVLGFPRGADRTKAFSTCIPHILVVSVFLSSCSSVYLRPPAIPAATQDLILSGFYSIMPPLFNPIIYSLRNKQIKVAIKKIMKRIFYSENV\"\n",
    "structure = generate_structure(sequence)\n",
    "print(structure)"
   ]
  },
  {
   "cell_type": "code",
   "execution_count": null,
   "metadata": {
    "allow_embed": false,
    "cell_id": "eaf40d5d784247888177cf53b2eb9cf5",
    "deepnote_cell_height": 567,
    "deepnote_cell_type": "code",
    "deepnote_to_be_reexecuted": false,
    "execution_millis": 1,
    "execution_start": 1655994663548,
    "source_hash": "4c0f0d89",
    "tags": []
   },
   "outputs": [],
   "source": [
    "import random\n",
    "from math import e\n",
    "\n",
    "def sim_annealing(protein,tInit,a):\n",
    "    t = int(tInit)\n",
    "    sol = generate_structure(protein)\n",
    "    print('Estructura generada:' + sol)\n",
    "    sol_score = get_score(get_spatial_dic(protein,structure))\n",
    "    print('Puntuacion inicial: '+ str(sol_score))\n",
    "    while t > 0:\n",
    "        for i in range(1,len(sol)):\n",
    "            stat1 = fold(sol, i, 90)\n",
    "            score1 = get_score(get_spatial_dic(protein,stat1))\n",
    "            stat2 = fold(sol, i, -90)\n",
    "            score2 = get_score(get_spatial_dic(protein,stat2))            \n",
    "\n",
    "            delta1 = sol_score - score1\n",
    "            delta2 = sol_score - score2\n",
    "\n",
    "            random_n = random.uniform(0,1)\n",
    "            if (delta1<0 or random_n<e**(-delta1/t)) and score1!=0:\n",
    "                sol = stat1\n",
    "\n",
    "            if (delta2<0 or random_n<e**(-delta2/t)) and score2!=0:\n",
    "                sol = stat2\n",
    "        t -= a\n",
    "    \n",
    "    return sol"
   ]
  },
  {
   "cell_type": "markdown",
   "metadata": {
    "cell_id": "426bba0971914090b4ee6489b46ffbae",
    "deepnote_cell_height": 52.399993896484375,
    "deepnote_cell_type": "markdown",
    "tags": []
   },
   "source": [
    "Caso de prueba"
   ]
  },
  {
   "cell_type": "code",
   "execution_count": null,
   "metadata": {
    "cell_id": "5742a6ec058249cc8d5b9a774a6e6afb",
    "deepnote_cell_height": 297.79998779296875,
    "deepnote_cell_type": "code",
    "deepnote_to_be_reexecuted": false,
    "execution_millis": 12509,
    "execution_start": 1655994663550,
    "source_hash": "553d966b",
    "tags": []
   },
   "outputs": [],
   "source": [
    "protein = \"MPNSTTVMEFLLMRFSDVWTLQILHSASFFMLYLVTLMGNILIVTVTTCDSSLHMPMYFFLRNLSILDACYISVTVPTSCVNSLLDSTTISKAGCVAQVFLVVFFVYVELLFLTIMAHDRYVAVCQPLHYPVIVNSRICIQMTLASLLSGLVYAGMHTGSTFQLPFCRSNVIHQFFCDIPSLLKLSCSDTFSNEVMIVVSALGVGGGCFIFIIRSYIHIFSTVLGFPRGADRTKAFSTCIPHILVVSVFLSSCSSVYLRPPAIPAATQDLILSGFYSIMPPLFNPIIYSLRNKQIKVAIKKIMKRIFYSENV\"\n",
    "objetivo=50\n",
    "\n",
    "example = sim_annealing(protein,objetivo,10)\n",
    "\n",
    "print(example)\n",
    "print('Score: ' + str(get_score(get_spatial_dic(protein,example))))"
   ]
  },
  {
   "cell_type": "markdown",
   "metadata": {
    "cell_id": "a09c5d126e3046a9afddd4bea0134a4b",
    "deepnote_cell_type": "text-cell-h2",
    "formattedRanges": [],
    "is_collapsed": false,
    "tags": []
   },
   "source": [
    "## Problema 5"
   ]
  },
  {
   "cell_type": "markdown",
   "metadata": {
    "cell_id": "c197a90cb0ad4f77930f9efdf6f32772",
    "deepnote_cell_type": "text-cell-p",
    "formattedRanges": [],
    "is_collapsed": false,
    "tags": []
   },
   "source": [
    "Dada una proteína podemos predecir un plegamiento 2D de la misma gracias a los algoritmos\n",
    "implementados durante el desarrollo de este trabajo.\n",
    "         • Se pide probar estos algoritmos con al menos otras tres proteínas sencillas cuya secuencia de\n",
    "             aminoácidos y descripción sea extraída desde UNIPROT.\n",
    "         • Se pide hacer una representación gráfica de las estructuras 2D resultante con pyplot. Coloreando\n",
    "             de distinto color los aminoácidos dependiendo de si son hidrofóbicos o no."
   ]
  },
  {
   "cell_type": "markdown",
   "metadata": {
    "cell_id": "5db51d360f564b709a5ba15c08a70e22",
    "deepnote_cell_type": "text-cell-h2",
    "formattedRanges": [],
    "is_collapsed": false,
    "tags": []
   },
   "source": [
    "## 40S ribosomal protein S18 (Ke-3 (Ke3))"
   ]
  },
  {
   "cell_type": "code",
   "execution_count": null,
   "metadata": {
    "cell_id": "f5627be03c2044448ea834e2e41df671",
    "deepnote_cell_height": 278,
    "deepnote_cell_type": "code",
    "deepnote_to_be_reexecuted": false,
    "execution_millis": 8618,
    "execution_start": 1655994676024,
    "source_hash": "a21f48b9",
    "tags": []
   },
   "outputs": [],
   "source": [
    "sequence= 'MSLVIPEKFQHILRVLNTNIDGRRKIAFAITAIKGVGRRYAHVVLRKADIDLTKRAGELTEDEVERVITIMQNPRQYKIPDWFLNRQKDVKDGKYSQVLANGLDNKLREDLERLKKIRAHRGLRHFWGLRVRGQHTKTTGRRGRTVGVSKKK'\n",
    "objetivo=50\n",
    "sol= sim_annealing(protein,objetivo,10)\n",
    "print(sol)\n",
    "\n",
    "\n"
   ]
  },
  {
   "cell_type": "code",
   "execution_count": null,
   "metadata": {
    "cell_id": "ba615645bb9343e9b94085c01124801c",
    "deepnote_cell_height": 112.19999694824219,
    "deepnote_cell_type": "code",
    "deepnote_to_be_reexecuted": false,
    "execution_millis": 10,
    "execution_start": 1655994684644,
    "source_hash": "b72229c4",
    "tags": []
   },
   "outputs": [],
   "source": [
    "print (sol != structure)"
   ]
  },
  {
   "cell_type": "markdown",
   "metadata": {
    "cell_id": "cdf81ac8a10d4df5b13207029c39fa2e",
    "deepnote_cell_height": 70,
    "deepnote_cell_type": "markdown",
    "tags": []
   },
   "source": [
    "## Cysteine-rich tail protein 1"
   ]
  },
  {
   "cell_type": "code",
   "execution_count": null,
   "metadata": {
    "cell_id": "c1fa2d3c7355417ea47ad2ada248d19a",
    "deepnote_cell_height": 278,
    "deepnote_cell_type": "code",
    "deepnote_to_be_reexecuted": false,
    "execution_millis": 9484,
    "execution_start": 1655994684655,
    "source_hash": "31b01c65",
    "tags": []
   },
   "outputs": [],
   "source": [
    "sequence= 'MDPQEMVVKNPYAHISIPRAHLRPDLGQQLEVASTCSSSSEMQPLPVGPCAPEPTHLLQPTEVPGPKGAKGNQGAAPIQNQQAWQQPGNPYSSSQRQAGLTYAGPPPAGRGDDIAHHCCCCPCCHCCHCPPFCRCHSCCCCVIS'\n",
    "objetivo=50\n",
    "sol= sim_annealing(protein,objetivo,10)\n",
    "print(sol)\n",
    "\n",
    "\n"
   ]
  },
  {
   "cell_type": "code",
   "execution_count": null,
   "metadata": {
    "cell_id": "38697d20c4924f2882b328f1ca59e7bf",
    "deepnote_cell_height": 112.19999694824219,
    "deepnote_cell_type": "code",
    "deepnote_to_be_reexecuted": false,
    "execution_millis": 0,
    "execution_start": 1655994694155,
    "source_hash": "b72229c4",
    "tags": []
   },
   "outputs": [],
   "source": [
    "print (sol != structure)"
   ]
  },
  {
   "cell_type": "markdown",
   "metadata": {
    "cell_id": "7f55a3c0dae94df9980901a8bcb3f321",
    "deepnote_cell_type": "text-cell-h2",
    "formattedRanges": [],
    "is_collapsed": false,
    "tags": []
   },
   "source": [
    "## T cell receptor delta constant"
   ]
  },
  {
   "cell_type": "code",
   "execution_count": null,
   "metadata": {
    "cell_id": "3854f973213c44ccbc5eda8ee90b764e",
    "deepnote_cell_height": 277.6000061035156,
    "deepnote_cell_type": "code",
    "deepnote_to_be_reexecuted": false,
    "execution_millis": 8090,
    "execution_start": 1655994694206,
    "source_hash": "314a1629",
    "tags": []
   },
   "outputs": [],
   "source": [
    "sequence= 'SQPHTKPSVFVMKNGTNVACLVKEFYPKDIRINLVSSKKITEFDPAIVISPSGKYNAVKLGKYEDSNSVTCSVQHDNKTVHSTDFEVKTDSTDHVKPKETENTKQPSKSCHKPKAIVHTEKVNMMSLTVLGLRMLFAKTVAVNFLLTAKLFFL'\n",
    "structure = generate_structure(sequence)\n",
    "\n",
    "sol = sim_annealing(protein,objetivo,10)\n",
    "\n",
    "print(sol)\n"
   ]
  },
  {
   "cell_type": "markdown",
   "metadata": {
    "cell_id": "8f072401087e44288b6cb4868547bc15",
    "deepnote_cell_height": 52.399993896484375,
    "deepnote_cell_type": "markdown",
    "tags": []
   },
   "source": [
    "Comprobación de que no es la misma estructura"
   ]
  },
  {
   "cell_type": "code",
   "execution_count": null,
   "metadata": {
    "cell_id": "a5dbce38e54a4e93b9500937f1932fbc",
    "deepnote_cell_height": 112.19999694824219,
    "deepnote_cell_type": "code",
    "deepnote_to_be_reexecuted": false,
    "execution_millis": 611,
    "execution_start": 1655994701699,
    "source_hash": "b72229c4",
    "tags": []
   },
   "outputs": [],
   "source": [
    "print (sol != structure)"
   ]
  },
  {
   "cell_type": "code",
   "execution_count": null,
   "metadata": {
    "cell_id": "6bdf9a07492341e29bb1dc2f8bccc723",
    "deepnote_cell_height": 855,
    "deepnote_cell_type": "code",
    "deepnote_to_be_reexecuted": false,
    "execution_millis": 1213,
    "execution_start": 1655994701707,
    "source_hash": "7075af0f",
    "tags": []
   },
   "outputs": [],
   "source": [
    "import matplotlib.pyplot as plt\n",
    "\n",
    "def structure_to_plot(structure, protein):\n",
    "\n",
    "    coords_X = [0]\n",
    "    coords_Y = [0]\n",
    "\n",
    "    last_key=(0,0)\n",
    "    \n",
    "    if (is_hydrophobic(protein[0])):\n",
    "        plot = plt.plot(last_key[0], last_key[1], 'ro') \n",
    "    else:\n",
    "        plot = plt.plot(last_key[0], last_key[1], 'g^') \n",
    "\n",
    "    for i in range(1,len(structure)):\n",
    "        if (structure[i]=='N'):\n",
    "            pos = last_key[1]\n",
    "            pos+=1\n",
    "            last_key = last_key[0],pos\n",
    "\n",
    "        elif(structure[i]=='S'):\n",
    "            pos = last_key[1]\n",
    "            pos-=1\n",
    "            last_key = last_key[0],pos\n",
    "\n",
    "        elif(structure[i]=='E'):\n",
    "            pos = last_key[0]\n",
    "            pos+=1\n",
    "            last_key = pos,last_key[1]\n",
    "        \n",
    "        elif(structure[i]=='W'):\n",
    "            pos = last_key[0]\n",
    "            pos-=1\n",
    "            last_key = pos,last_key[1]\n",
    "\n",
    "        coords_X.append(last_key[0])\n",
    "        coords_Y.append(last_key[1])\n",
    "\n",
    "        if (is_hydrophobic(protein[i])):\n",
    "            plot = plt.plot(last_key[0], last_key[1], 'ro') \n",
    "        else:\n",
    "            plot = plt.plot(last_key[0], last_key[1], 'g^') \n",
    "\n",
    "    plot += plt.plot(coords_X,coords_Y, linestyle=\"--\")"
   ]
  },
  {
   "cell_type": "markdown",
   "metadata": {
    "cell_id": "4ae1150f971f4b409ff2b793d0b063e0",
    "deepnote_cell_type": "text-cell-h2",
    "formattedRanges": [],
    "is_collapsed": false,
    "tags": []
   },
   "source": [
    "## Casos de prueba con gráficas"
   ]
  },
  {
   "cell_type": "markdown",
   "metadata": {
    "cell_id": "d004c3034f68488e9975246816b73918",
    "deepnote_cell_type": "text-cell-p",
    "formattedRanges": [],
    "is_collapsed": false,
    "tags": []
   },
   "source": [
    "Misma estructura y temperatura pero diferentes tipos de aminoácidos"
   ]
  },
  {
   "cell_type": "code",
   "execution_count": null,
   "metadata": {
    "cell_id": "f960647b02474b048749025d68ce49f3",
    "deepnote_cell_height": 201.39999389648438,
    "deepnote_cell_type": "code",
    "deepnote_output_heights": [
     null,
     2
    ],
    "deepnote_to_be_reexecuted": false,
    "execution_millis": 224,
    "execution_start": 1655994967980,
    "source_hash": "f3bf62b0",
    "tags": []
   },
   "outputs": [],
   "source": [
    "sequence = \"AAAAAAAAAA\"\n",
    "sol1= sim_annealing(sequence,50,10)\n",
    "structure_to_plot(sol1,sequence)"
   ]
  },
  {
   "cell_type": "code",
   "execution_count": null,
   "metadata": {
    "allow_embed": false,
    "cell_id": "bf65a7078f734563a33abb2267221bbe",
    "deepnote_cell_height": 449,
    "deepnote_cell_type": "code",
    "deepnote_output_heights": [
     null,
     2
    ],
    "deepnote_to_be_reexecuted": false,
    "execution_millis": 823,
    "execution_start": 1655994968849,
    "source_hash": "3bf37d1f",
    "tags": []
   },
   "outputs": [],
   "source": [
    "sequence = \"KKKKKKKKKK\"\n",
    "sol1_2= sim_annealing(sequence,50,10)\n",
    "structure_to_plot(sol1_2,sequence)"
   ]
  },
  {
   "cell_type": "code",
   "execution_count": null,
   "metadata": {
    "allow_embed": false,
    "cell_id": "48a33b738bdf4ada87dfc55609383939",
    "deepnote_cell_height": 449,
    "deepnote_cell_type": "code",
    "deepnote_output_heights": [
     null,
     2
    ],
    "deepnote_to_be_reexecuted": false,
    "execution_millis": 548,
    "execution_start": 1655994969126,
    "source_hash": "9929582c",
    "tags": []
   },
   "outputs": [],
   "source": [
    "sequence = \"AKAKAKAKAK\"\n",
    "sol1_3= sim_annealing(sequence,50,10)\n",
    "structure_to_plot(sol1_3,sequence)"
   ]
  },
  {
   "cell_type": "markdown",
   "metadata": {
    "cell_id": "26862811825f4a588a1cd16de8d14e96",
    "deepnote_cell_height": 62,
    "deepnote_cell_type": "markdown",
    "tags": []
   },
   "source": [
    "### 40S ribosomal protein S18 (Ke-3 (Ke3))"
   ]
  },
  {
   "cell_type": "code",
   "execution_count": null,
   "metadata": {
    "cell_id": "142a9ccf0681457285ce072e4d48f4ab",
    "deepnote_cell_height": 236.39999389648438,
    "deepnote_cell_type": "code",
    "deepnote_output_heights": [
     null,
     2
    ],
    "deepnote_to_be_reexecuted": false,
    "execution_millis": 4765,
    "execution_start": 1655995611122,
    "source_hash": "c6b63b39",
    "tags": []
   },
   "outputs": [],
   "source": [
    "sequence= 'MSLVIPEKFQHILRVLNTNIDGRRKIAFAITAIKGVGRRYAHVVLRKADIDLTKRAGELTEDEVERVITIMQNPRQYKIPDWFLNRQKDVKDGKYSQVLANGLDNKLREDLERLKKIRAHRGLRHFWGLRVRGQHTKTTGRRGRTVGVSKKK'\n",
    "structure = generate_structure(sequence)\n",
    "sol2 = sim_annealing(sequence,200,10)\n",
    "structure_to_plot(sol2,sequence)"
   ]
  },
  {
   "cell_type": "markdown",
   "metadata": {
    "cell_id": "3adbc07953fa45358e911900ccda3768",
    "deepnote_cell_height": 62,
    "deepnote_cell_type": "markdown",
    "owner_user_id": "a42dfd62-790f-4560-9fa9-e14de25e33b6",
    "tags": []
   },
   "source": [
    "### Cysteine-rich tail protein 1"
   ]
  },
  {
   "cell_type": "code",
   "execution_count": null,
   "metadata": {
    "cell_id": "45063cd96e4440f7a6e8e9f2823f3f7f",
    "deepnote_cell_height": 236.39999389648438,
    "deepnote_cell_type": "code",
    "deepnote_output_heights": [
     null,
     2
    ],
    "deepnote_to_be_reexecuted": false,
    "execution_millis": 4207,
    "execution_start": 1655994709239,
    "source_hash": "5496569e",
    "tags": []
   },
   "outputs": [],
   "source": [
    "sequence= 'MDPQEMVVKNPYAHISIPRAHLRPDLGQQLEVASTCSSSSEMQPLPVGPCAPEPTHLLQPTEVPGPKGAKGNQGAAPIQNQQAWQQPGNPYSSSQRQAGLTYAGPPPAGRGDDIAHHCCCCPCCHCCHCPPFCRCHSCCCCVIS'\n",
    "structure = generate_structure(sequence)\n",
    "sol3 = sim_annealing(sequence,200,10)\n",
    "structure_to_plot(sol3,sequence)"
   ]
  },
  {
   "cell_type": "markdown",
   "metadata": {
    "cell_id": "d391ed8aea3147f39b2b4edfc407b659",
    "deepnote_cell_height": 54,
    "deepnote_cell_type": "markdown",
    "tags": []
   },
   "source": [
    "#### T cell receptor delta constant"
   ]
  },
  {
   "cell_type": "code",
   "execution_count": null,
   "metadata": {
    "cell_id": "ec0008a598294b108812e97d2e198fb7",
    "deepnote_cell_height": 484,
    "deepnote_cell_type": "code",
    "deepnote_output_heights": [
     null,
     2
    ],
    "deepnote_to_be_reexecuted": false,
    "execution_millis": 4879,
    "execution_start": 1655994713294,
    "source_hash": "4ca54eb0",
    "tags": []
   },
   "outputs": [],
   "source": [
    "sequence= 'SQPHTKPSVFVMKNGTNVACLVKEFYPKDIRINLVSSKKITEFDPAIVISPSGKYNAVKLGKYEDSNSVTCSVQHDNKTVHSTDFEVKTDSTDHVKPKETENTKQPSKSCHKPKAIVHTEKVNMMSLTVLGLRMLFAKTVAVNFLLTAKLFFL'\n",
    "structure = generate_structure(sequence)\n",
    "sol4 = sim_annealing(sequence,200,10)\n",
    "structure_to_plot(sol4,sequence)"
   ]
  },
  {
   "cell_type": "markdown",
   "metadata": {
    "cell_id": "5cce70b4c80547d9a891332a76ff5016",
    "deepnote_cell_height": 122,
    "deepnote_cell_type": "markdown",
    "owner_user_id": "cc5d364e-c79f-4d11-b3e9-e2542d0d24eb",
    "tags": []
   },
   "source": [
    "## Proteinas entre 200 y 400 aminoácidos"
   ]
  },
  {
   "cell_type": "markdown",
   "metadata": {
    "cell_id": "7e46aaea6502473888cf5b02ac145290",
    "deepnote_cell_height": 62,
    "deepnote_cell_type": "markdown",
    "tags": []
   },
   "source": [
    "### Clarin-2"
   ]
  },
  {
   "cell_type": "code",
   "execution_count": null,
   "metadata": {
    "cell_id": "2981fa93dddc4ac484e3ebb4880fce5b",
    "deepnote_cell_height": 236.39999389648438,
    "deepnote_cell_type": "code",
    "deepnote_output_heights": [
     null,
     2
    ],
    "deepnote_to_be_reexecuted": false,
    "execution_millis": 12744,
    "execution_start": 1655994718235,
    "source_hash": "572e8ea6",
    "tags": []
   },
   "outputs": [],
   "source": [
    "sequence= 'MPGWFKKAWYGLASLLSFSSFILIIVALVVPHWLSGKILCQTGVDLVNATDRELVKFIGDIYYGLFRGCKVRQCGLGGRQSQFTIFPHLVKELNAGLHVMILLLLFLALALALVSMGFAILNMIQVPYRAVSGPGGICLWNVLAGGVVALAIASFVAAVKFHDLTERIANFQEKLFQFVVVEEQYEESFWICVASASAHAANLVVVAISQIPLPEIKTKIEEATVTAEDILY'\n",
    "structure = generate_structure(sequence)\n",
    "sol5 = sim_annealing(sequence,200,10)\n",
    "structure_to_plot(sol5,sequence)"
   ]
  },
  {
   "cell_type": "markdown",
   "metadata": {
    "cell_id": "b70a915ecebc4a8e9e55a069fb24086e",
    "deepnote_cell_height": 70,
    "deepnote_cell_type": "markdown",
    "tags": []
   },
   "source": [
    "## Proteinas entre 400 y 600 aminoácidos"
   ]
  },
  {
   "cell_type": "markdown",
   "metadata": {
    "cell_id": "55258e8387a340db9c2840818ee03fa0",
    "deepnote_cell_height": 62,
    "deepnote_cell_type": "markdown",
    "tags": []
   },
   "source": [
    "### POTE ankyrin domain family member B3"
   ]
  },
  {
   "cell_type": "code",
   "execution_count": null,
   "metadata": {
    "cell_id": "4ab3d88ccd5541b0ac2e7328954b1269",
    "deepnote_cell_height": 281.6000061035156,
    "deepnote_cell_type": "code",
    "deepnote_output_heights": [
     null,
     250
    ],
    "deepnote_to_be_reexecuted": false,
    "execution_millis": 95377,
    "execution_start": 1655994730968,
    "source_hash": "d8cf83a7",
    "tags": []
   },
   "outputs": [],
   "source": [
    "sequence= 'MVAEVCSMPAASAVKKPFDLRSKMGKWCHHRFPCCRGSGKSNMGTSGDHDDSFMKTLRSKMGKCCHHCFPCCRGSGTSNVGTSGDHDNSFMKTLRSKMGKWCCHCFPCCRGSGKSNVGTWGDYDDSAFMEPRYHVRREDLDKLHRAAWWGKVPRKDLIVMLRDTDMNKRDKQKRTALHLASANGNSEVVQLLLDRRCQLNVLDNKKRTALIKAVQCQEDECVLMLLEHGADGNIQDEYGNTALHYAIYNEDKLMAKALLLYGADIESKNKCGLTPLLLGVHEQKQQVVKFLIKKKANLNALDRYGRTALILAVCCGSASIVNLLLEQNVDVSSQDLSGQTAREYAVSSHHHVICELLSDYKEKQMLKISSENSNPEQDLKLTSEEESQRLKVSENSQPEKMSQEPEINKDCDREVEEEIKKHGSNPVGLPENLTNGASAGNGDDGLIPQRKSRKPENQQFPDTENEEYHSDEQNDTQKQLSEEQNTGISQDEILTNKQKQIEVAEKEMNSKLSLSHKKEEDLLRENSMLREEIAMLRLELDETKHQNQLRENKILEEIESVKEKLLKAIQLNEEALTKTSI'\n",
    "structure = generate_structure(sequence)\n",
    "sol6 = sim_annealing(sequence,200,10)\n",
    "structure_to_plot(sol6,sequence)"
   ]
  },
  {
   "cell_type": "markdown",
   "metadata": {
    "cell_id": "433914d54355447f90c076f73ba65470",
    "deepnote_cell_height": 70,
    "deepnote_cell_type": "markdown",
    "tags": []
   },
   "source": [
    "## Entre 600 y 800 aminoácidos"
   ]
  },
  {
   "cell_type": "markdown",
   "metadata": {
    "cell_id": "95c9e42763804d4db21b23a16ecf07c9",
    "deepnote_cell_height": 62,
    "deepnote_cell_type": "markdown",
    "tags": []
   },
   "source": [
    "### Rho GTPase-activating protein 10"
   ]
  },
  {
   "cell_type": "code",
   "execution_count": null,
   "metadata": {
    "cell_id": "3e377653944e49bbbbab793ac516c386",
    "deepnote_cell_height": 218.39999389648438,
    "deepnote_cell_type": "code",
    "deepnote_output_heights": [
     null,
     2
    ],
    "deepnote_to_be_reexecuted": true,
    "execution_millis": 351844,
    "execution_start": 1655988096552,
    "source_hash": "2fd0ef45",
    "tags": []
   },
   "outputs": [],
   "source": [
    "sequence= 'MGLQPLEFSDCYLDSPWFRERIRAHEAELERTNKFIKELIKDGKNLIAATKSLSVAQRKFAHSLRDFKFEFIGDAVTDDERCIDASLREFSNFLKNLEEQREIMALSVTETLIKPLEKFRKEQLGAVKEEKKKFDKETEKNYSLIDKHLNLSAKKKDSHLQEADIQVEQNRQHFYELSLEYVCKLQEIQERKKFEFVEPMLSFFQGMFTFYHQGHELAKDFNHYKMELQINIQNTRNRFEGTRSEVEELMNKIRQNPKDHKRASQFTAEGYLYVQEKRPAPFGSSWVKHYCMYRKAAKKFNMIPFEHRSGGKLGDGEVFFLKECTKRHTDSIDRRFCFDIEAADRPGVSLTMQAFSEEERKQWLEALGGKEALSHSFNTAIIPRPEGNAQLDKMGFTIIRKCISAVETRGINDQGLYRVVGVSSKVQRLLSMLMDVKTCNEVDLENSADWEVKTITSALKQYLRSLPEPLMTYELHGDFIVPAKSGSPESRVNAIHFLVHKLPEKNKEMLDILVKHLTNVSNHSKQNLMTVANLGVVFGPTLMRPQEETVAALMDLKFQNIVVEILIENHEKIFRTPPDTTFPEPTCLSASPPNAPPRQSKRQGQRTKRPVAVYNLCLELEDGDNPYPSKEDTPTSSLDSLSSPSPVTTAVPGPPGPDKNHLLADGGSFGDWASTIPGQTRSSMVQWLNPQSPTTTSSNSAVTPLSPGSSPFPFSPPATVADKPPESIRSRKARAVYPCEAEHSSELSFEIGAIFEDVQTSREPGWLEGTLNGKRGLIPQNYVKLL'\n",
    "sol7 = sim_annealing(sequence,200,10)\n",
    "structure_to_plot(sol7,sequence)"
   ]
  },
  {
   "cell_type": "markdown",
   "metadata": {
    "cell_id": "d63fd1a523c241f7b272b4f60a2ae435",
    "deepnote_cell_height": 70,
    "deepnote_cell_type": "markdown",
    "tags": []
   },
   "source": [
    "## Mayor que 800 aminoácidos"
   ]
  },
  {
   "cell_type": "markdown",
   "metadata": {
    "cell_id": "131d2c84a23848c38fbafd32bdab87f7",
    "deepnote_cell_height": 62,
    "deepnote_cell_type": "markdown",
    "tags": []
   },
   "source": [
    "### UHRF1-binding protein 1-like"
   ]
  },
  {
   "cell_type": "code",
   "execution_count": null,
   "metadata": {
    "cell_id": "3544160eb1dc40cba9ca0fcf61b2ca51",
    "deepnote_cell_height": 362.6000061035156,
    "deepnote_cell_type": "code",
    "deepnote_to_be_reexecuted": true,
    "execution_millis": 14338,
    "execution_start": 1655988448395,
    "source_hash": "26b3e057",
    "tags": []
   },
   "outputs": [],
   "source": [
    "sequence= 'MAGIIKKQILKHLSRFTKNLSPDKINLSTLKGEGELKNLELDEEVLQNMLDLPTWLAINKVFCNKASIRIPWTKLKTHPICLSLDKVIMEMSTCEEPRSPNGPSPIATASGQSEYGFAEKVVEGISVSVNSIVIRIGAKAFNASFELSQLRIYSVNAHWEHGDLRFTRIQDPQRGEVLTFKEINWQMIRIEADATQSSHLEIMCAPVRLITNQSKIRVTLKRRLKDCNVIATKLVLILDDLLWVLTDSQLKAMVQYAKSLSEAIEKSTEQRKSMAPEPTQSSTVVASAQQVKTTQTSNAPDVNDAIVKLFNDFDVKETSHHLVISHLDLHICDDIHAKEKESNRRITGGAMQLSFTQLTIDYYPYHKAGDSCNHWMYFSDATKTKNGWANELLHEFECNVEMLKQAVKDHNVGSPPKSPTHASPQHTQTEKDYPLKGTCRTPSVLSQQSKAKLMSSSVVVRLADFNIYQVSTAEQCRSSPKSMICCNKKSLYLPQEMSAVYIEFTEYYYPDGKDFPIPSPNLYSQLNALQFTVDERSILWLNQFLLDLKQSLNQFMAVYKLNDNSKSDEHVDVRVDGLMLKFVIPSEVKSECHQDQPRAISIQSSEMIATNTRHCPNCRHSDLEALFQDFKDCDFFSKTYTSFPKSCDNFNLLHPIFQRHAHEQDTKMHEIYKGNITPQLNKNTLKTSAATDVWAVYFSQFWIDYEGMKSGKGRPISFVDSFPLSIWICQPTRYAESQKEPQTCNQVSLNTSQSESSDLAGRLKRKKLLKEYYSTESEPLTNGGQKPSSSDTFFRFSPSSSEADIHLLVHVHKHVSMQINHYQYLLLLFLHESLILLSENLRKDVEAVTGSPASQTSICIGILLRSAELALLLHPVDQANTLKSPVSESVSPVVPDYLPTENGDFLSSKRKQISRDINRIRSVTVNHMSDNRSMSVDLSHIPLKDPLLFKSASDTNLQKGISFMDYLSDKHLGKISEDESSGLVYKSGSGEIGSETSDKKDSFYTDSSSILNYREDSNILSFDSDGNQNILSSTLTSKGNETIESIFKAEDLLPEAASLSENLDISKEETPPVRTLKSQSSLSGKPKERCPPNLAPLCVSYKNMKRSSSQMSLDTISLDSMILEEQLLESDGSDSHMFLEKGNKKNSTTNYRGTAESVNAGANLQNYGETSPDAISTNSEGAQENHDDLMSVVVFKITGVNGEIDIRGEDTEICLQVNQVTPDQLGNISLRHYLCNRPVGSDQKAVIHSKSSPEISLRFESGPGAVIHSLLAEKNGFLQCHIENFSTEFLTSSLMNIQHFLEDETVATVMPMKIQVSNTKINLKDDSPRSSTVSLEPAPVTVHIDHLVVERSDDGSFHIRDSHMLNTGNDLKENVKSDSVLLTSGKYDLKKQRSVTQATQTSPGVPWPSQSANFPEFSFDFTREQLMEENESLKQELAKAKMALAEAHLEKDALLHHIKKMTVE'\n",
    "structure = generate_structure(sequence)\n",
    "sol8 = sim_annealing(sequence,200,10)\n",
    "structure_to_plot(sol8,sequence)"
   ]
  },
  {
   "cell_type": "markdown",
   "metadata": {
    "created_in_deepnote_cell": true,
    "deepnote_cell_type": "markdown",
    "tags": []
   },
   "source": [
    "<a style='text-decoration:none;line-height:16px;display:flex;color:#5B5B62;padding:10px;justify-content:end;' href='https://deepnote.com?utm_source=created-in-deepnote-cell&projectId=1ec154f0-9979-4b89-abdb-5c65538ecaa9' target=\"_blank\">\n",
    "<img alt='Created in deepnote.com' style='display:inline;max-height:16px;margin:0px;margin-right:7.5px;' src='data:image/svg+xml;base64,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' > </img>\n",
    "Created in <span style='font-weight:600;margin-left:4px;'>Deepnote</span></a>"
   ]
  }
 ],
 "metadata": {
  "deepnote": {},
  "deepnote_execution_queue": [],
  "deepnote_notebook_id": "20db747b-8501-4668-9cad-e338ec67b4af",
  "kernelspec": {
   "display_name": "Python 3 (ipykernel)",
   "language": "python",
   "name": "python3"
  },
  "language_info": {
   "codemirror_mode": {
    "name": "ipython",
    "version": 3
   },
   "file_extension": ".py",
   "mimetype": "text/x-python",
   "name": "python",
   "nbconvert_exporter": "python",
   "pygments_lexer": "ipython3",
   "version": "3.9.7"
  }
 },
 "nbformat": 4,
 "nbformat_minor": 2
}
